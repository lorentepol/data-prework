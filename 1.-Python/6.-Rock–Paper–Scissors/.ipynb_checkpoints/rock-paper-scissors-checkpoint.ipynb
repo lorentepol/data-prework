{
 "cells": [
  {
   "cell_type": "markdown",
   "metadata": {},
   "source": [
    "<img src=\"https://bit.ly/2VnXWr2\" width=\"100\" align=\"left\">"
   ]
  },
  {
   "cell_type": "markdown",
   "metadata": {},
   "source": [
    "# Rock, Paper & Scissors\n",
    "\n",
    "Let's play the famous game against our computer. You can check the rules [here](https://en.wikipedia.org/wiki/Rock%E2%80%93paper%E2%80%93scissors). \n",
    "\n",
    "## Task\n",
    "Create a program that imitates the playability of the well known game of rock, paper, scissors. Follow the guidelines provided.\n",
    "\n",
    "## Tools\n",
    "1. Loop: **for/while**\n",
    "2. Functions: **input(), print()...**\n",
    "3. Conditional statements: **if, elif, else**\n",
    "4. Definition of functions. Modular programming\n",
    "5. Import modules\n",
    "\n",
    "**To solve this challenge, the use of functions is recommended.**\n",
    "\n",
    "#### 1. Import the choice function of the random module."
   ]
  },
  {
   "cell_type": "code",
   "execution_count": 1,
   "metadata": {},
   "outputs": [],
   "source": [
    "from random import choice"
   ]
  },
  {
   "cell_type": "markdown",
   "metadata": {},
   "source": [
    "#### 2. Create a list that includes the 3 possible gesture options of the game: 'rock', 'paper' or 'scissors'. Store the list in a variable called `gestures`."
   ]
  },
  {
   "cell_type": "code",
   "execution_count": 2,
   "metadata": {},
   "outputs": [],
   "source": [
    "gestures = ['rock', 'paper', 'scissors']"
   ]
  },
  {
   "cell_type": "markdown",
   "metadata": {},
   "source": [
    "#### 3. Create a variable called `n_rounds` to store the maximum number of rounds to play in a game. \n",
    "Remember that the number of rounds must be odd: 1, 3, 5, ..."
   ]
  },
  {
   "cell_type": "code",
   "execution_count": 3,
   "metadata": {},
   "outputs": [],
   "source": [
    "n_rounds = 3"
   ]
  },
  {
   "cell_type": "markdown",
   "metadata": {},
   "source": [
    "#### 4. Create a variable called `rounds_to_win` to store the number of rounds that a player must win to win the game.\n",
    "**Hint**: the value stored in `rounds_to_win` depends on the value of `n_rounds`. "
   ]
  },
  {
   "cell_type": "code",
   "execution_count": 4,
   "metadata": {},
   "outputs": [],
   "source": [
    "actual_rounds = n_rounds\n",
    "rounds_to_win = int(actual_rounds/2) + 1"
   ]
  },
  {
   "cell_type": "markdown",
   "metadata": {},
   "source": [
    "#### 5. Create two variables to store the number of rounds that the computer and the player have won. Call these variables `cpu_score` and `player_score`."
   ]
  },
  {
   "cell_type": "code",
   "execution_count": 5,
   "metadata": {},
   "outputs": [
    {
     "name": "stdout",
     "output_type": "stream",
     "text": [
      "<class 'int'>\n",
      "<class 'int'>\n"
     ]
    }
   ],
   "source": [
    "cpu_score = 0\n",
    "player_score = 0\n",
    "print(type(cpu_score))\n",
    "print(type(player_score))"
   ]
  },
  {
   "cell_type": "markdown",
   "metadata": {},
   "source": [
    "#### 6. Define a function that randomly returns one of the 3 gesture options.\n",
    "You will use this function to simulate the gesture choice of the computer. "
   ]
  },
  {
   "cell_type": "code",
   "execution_count": 6,
   "metadata": {},
   "outputs": [],
   "source": [
    "def random (gesture):\n",
    "    return choice(gesture)"
   ]
  },
  {
   "cell_type": "markdown",
   "metadata": {},
   "source": [
    "#### 7. Define a function that asks the player which is the gesture he or she wants to show: 'rock', 'paper' or 'scissors'.\n",
    "The player should only be allowed to choose one of the 3 gesture options. If the player's choice is not rock, paper or scissors, keep asking until it is."
   ]
  },
  {
   "cell_type": "code",
   "execution_count": 7,
   "metadata": {},
   "outputs": [],
   "source": [
    "def player_choice(gestures):\n",
    "    player_gesture = input('Which gesture do you want to show?')\n",
    "    while player_gesture not in gestures:\n",
    "        player_gesture = input ('The gesture has not been recognised. Please choose one valid gesture.')\n",
    "    return player_gesture"
   ]
  },
  {
   "cell_type": "markdown",
   "metadata": {},
   "source": [
    "#### 8. Define a function that checks who won a round. \n",
    "The function should return 0 if there is a tie, 1 if the computer wins and 2 if the player wins."
   ]
  },
  {
   "cell_type": "code",
   "execution_count": 8,
   "metadata": {},
   "outputs": [],
   "source": [
    "def rock_paper_scissors(player,cpu):\n",
    "    if player == cpu:\n",
    "        return 0\n",
    "    elif player == 'rock':\n",
    "        if cpu == 'paper':\n",
    "            return 1\n",
    "        else:\n",
    "            return 2\n",
    "    elif player == 'paper':\n",
    "        if cpu == 'scissors':\n",
    "            return 1\n",
    "        else:\n",
    "            return 2\n",
    "    else:\n",
    "        if cpu == 'rock':\n",
    "            return 1\n",
    "        else:\n",
    "            return 2"
   ]
  },
  {
   "cell_type": "markdown",
   "metadata": {},
   "source": [
    "#### 9. Define a function that prints the choice of the computer, the choice of the player and a message that announces who won the current round. \n",
    "You should also use this function to update the variables that count the number of rounds that the computer and the player have won. The score of the winner increases by one point. If there is a tie, the score does not increase."
   ]
  },
  {
   "cell_type": "code",
   "execution_count": 9,
   "metadata": {},
   "outputs": [],
   "source": [
    "def round_play(play,gestures):\n",
    "    global cpu_score\n",
    "    global player_score\n",
    "    global actual_rounds\n",
    "    player = player_choice(gestures)\n",
    "    print('Player has chosen:', player)\n",
    "    cpu = random(gestures)\n",
    "    print('The computer has chosen:', cpu)\n",
    "    result = play(player,cpu)\n",
    "    if result == 1:\n",
    "        cpu_score +=1\n",
    "        print ('The computer won the round')\n",
    "    elif result == 2:\n",
    "        player_score +=1\n",
    "        print ('Player won the round')\n",
    "    else:\n",
    "        actual_rounds -= 1\n",
    "        print('The round ended in a tie')"
   ]
  },
  {
   "cell_type": "markdown",
   "metadata": {},
   "source": [
    "#### 10. Now it's time to code the execution of the game using the functions and variables you defined above. \n",
    "\n",
    "First, create a loop structure that repeats while no player reaches the minimum score necessary to win and the number of rounds is less than the maximum number of rounds to play in a game.  \n",
    "\n",
    "Inside the loop, use the functions and variables above to create the execution of a round: ask for the player's choice, generate the random choice of the computer, show the round results, update the scores, etc. "
   ]
  },
  {
   "cell_type": "code",
   "execution_count": 10,
   "metadata": {},
   "outputs": [],
   "source": [
    "def play_game_rock_paper_scissors():\n",
    "    round_count = 0\n",
    "    while (round_count < n_rounds) & (cpu_score < rounds_to_win) & (player_score < rounds_to_win):\n",
    "        round_count +=1\n",
    "        if round_count == n_rounds:\n",
    "            print('Final round!')\n",
    "        print ('Round number', round_count)\n",
    "        round_play(rock_paper_scissors,gestures)\n",
    "        if (round_count < n_rounds) & (cpu_score < rounds_to_win) & (player_score < rounds_to_win):\n",
    "            if cpu_score == player_score:\n",
    "                print ('The game is now tied:{}-{}'.format(cpu_score,player_score))\n",
    "            elif cpu_score > player_score:\n",
    "                print ('The computer is now winning: {}-{}'.format(cpu_score,player_score))\n",
    "            else:\n",
    "                print ('The player is now winning: {}-{}'.format(player_score,cpu_score))\n",
    "            if rounds_to_win - cpu_score == 1:\n",
    "                print ('The computer is about to win!')\n",
    "            if rounds_to_win - player_score ==1:\n",
    "                print ('Player is about to win!')\n",
    "        print ('\\n')\n",
    "               \n",
    "    if cpu_score == player_score:\n",
    "        print ('The game ended with a {}-{} draw'.format(cpu_score,player_score))\n",
    "    elif cpu_score > player_score:\n",
    "        print ('The computer has won the game! {}-{}'.format(cpu_score,player_score))\n",
    "    else:\n",
    "        print ('Player has won the game! {}-{}'.format(player_score,cpu_score))"
   ]
  },
  {
   "cell_type": "markdown",
   "metadata": {},
   "source": [
    "#### 11. Print the winner of the game based on who won more rounds.\n",
    "Remember that the game might be tied. "
   ]
  },
  {
   "cell_type": "code",
   "execution_count": 11,
   "metadata": {
    "scrolled": true
   },
   "outputs": [
    {
     "name": "stdout",
     "output_type": "stream",
     "text": [
      "Round number 1\n",
      "Which gesture do you want to show?rock\n",
      "Player has chosen: rock\n",
      "The computer has chosen: scissors\n",
      "Player won the round\n",
      "The player is now winning: 1-0\n",
      "Player is about to win!\n",
      "\n",
      "\n",
      "Round number 2\n",
      "Which gesture do you want to show?rock\n",
      "Player has chosen: rock\n",
      "The computer has chosen: rock\n",
      "The round ended in a tie\n",
      "The player is now winning: 1-0\n",
      "Player is about to win!\n",
      "\n",
      "\n",
      "Final round!\n",
      "Round number 3\n",
      "Which gesture do you want to show?rock\n",
      "Player has chosen: rock\n",
      "The computer has chosen: rock\n",
      "The round ended in a tie\n",
      "\n",
      "\n",
      "Player has won the game! 1-0\n"
     ]
    }
   ],
   "source": [
    "play_game_rock_paper_scissors()"
   ]
  },
  {
   "cell_type": "markdown",
   "metadata": {},
   "source": [
    "# Bonus: Rock, Paper, Scissors, Lizard & Spock\n",
    "![](images/rpsls.jpg)\n",
    "\n",
    "In this challenge, you need to improve the previous game by adding two new options. To know more about the rules of the improved version of rock, paper, scissors, check this [link](http://www.samkass.com/theories/RPSSL.html). \n",
    "\n",
    "In addition, you will also need to improve how the game interacts with the player: the number of rounds to play, which must be an odd number, will be requested to the user until a valid number is entered. Define a new function to make that request.\n",
    "\n",
    "**Hint**: Try to reuse the code that you already coded in the previous challenge. If your code is efficient, this bonus will only consist of simple modifications to the original game."
   ]
  },
  {
   "cell_type": "code",
   "execution_count": 12,
   "metadata": {},
   "outputs": [],
   "source": [
    "cpu_score = 0\n",
    "player_score = 0\n",
    "\n",
    "def rock_paper_scissors_lizard_spock(player,cpu):\n",
    "    if player == cpu:\n",
    "        return 0\n",
    "    elif player == 'rock':\n",
    "        if (cpu == 'paper')| (cpu =='spock'):\n",
    "            return 1\n",
    "        else:\n",
    "            return 2\n",
    "    elif player == 'paper':\n",
    "        if (cpu == 'scissors') | (cpu == 'lizard'):\n",
    "            return 1\n",
    "        else:\n",
    "            return 2\n",
    "    elif player == 'scissors':\n",
    "        if (cpu == 'rock') | (cpu == 'spock'):\n",
    "            return 1\n",
    "        else:\n",
    "            return 2\n",
    "    elif player == 'lizard':\n",
    "        if (cpu == 'rock') | (cpu == 'scissors'):\n",
    "            return 1\n",
    "        else:\n",
    "            return 2\n",
    "    else:\n",
    "        if (cpu == 'paper') | (cpu == 'lizard'):\n",
    "            return 1\n",
    "        else:\n",
    "            return 2\n",
    "        \n",
    "def play_rock_paper_scissors_lizard_spock():\n",
    "    new_gestures = ['rock', 'paper', 'scissors', 'lizard', 'spock']\n",
    "    n_rounds = int(input('Please introduce a maximum number of rounds:'))\n",
    "    while (n_rounds%2) == 0:\n",
    "        n_rounds = int(input('The number of rounds should be an odd number. Please introduce a maximum number of rounds:'))\n",
    "    print('\\n')\n",
    "    actual_rounds = n_rounds\n",
    "    rounds_to_win = int(actual_rounds/2) + 1\n",
    "    round_count = 0\n",
    "    while (round_count < n_rounds) & (cpu_score < rounds_to_win) & (player_score < rounds_to_win):\n",
    "        round_count +=1\n",
    "        if round_count == n_rounds:\n",
    "            print('Final round!')\n",
    "        print ('Round number', round_count)\n",
    "        round_play(rock_paper_scissors_lizard_spock,new_gestures)\n",
    "        if (round_count < n_rounds) & (cpu_score < rounds_to_win) & (player_score < rounds_to_win):\n",
    "            if cpu_score == player_score:\n",
    "                print ('The game is now tied:{}-{}'.format(cpu_score,player_score))\n",
    "            elif cpu_score > player_score:\n",
    "                print ('The computer is now winning: {}-{}'.format(cpu_score,player_score))\n",
    "            else:\n",
    "                print ('The player is now winning: {}-{}'.format(player_score,cpu_score))\n",
    "            if rounds_to_win - cpu_score == 1:\n",
    "                print ('The computer is about to win!')\n",
    "            if rounds_to_win - player_score ==1:\n",
    "                print ('Player is about to win!')\n",
    "        print ('\\n')\n",
    "               \n",
    "    if cpu_score == player_score:\n",
    "        print ('The game ended with a {}-{} draw'.format(cpu_score,player_score))\n",
    "    elif cpu_score > player_score:\n",
    "        print ('The computer has won the game! {}-{}'.format(cpu_score,player_score))\n",
    "    else:\n",
    "        print ('Player has won the game! {}-{}'.format(player_score,cpu_score))"
   ]
  },
  {
   "cell_type": "code",
   "execution_count": 13,
   "metadata": {},
   "outputs": [
    {
     "name": "stdout",
     "output_type": "stream",
     "text": [
      "Please introduce a maximum number of rounds:5\n",
      "\n",
      "\n",
      "Round number 1\n",
      "Which gesture do you want to show?lizard\n",
      "Player has chosen: lizard\n",
      "The computer has chosen: scissors\n",
      "The computer won the round\n",
      "The computer is now winning: 1-0\n",
      "\n",
      "\n",
      "Round number 2\n",
      "Which gesture do you want to show?spock\n",
      "Player has chosen: spock\n",
      "The computer has chosen: scissors\n",
      "Player won the round\n",
      "The game is now tied:1-1\n",
      "\n",
      "\n",
      "Round number 3\n",
      "Which gesture do you want to show?spock\n",
      "Player has chosen: spock\n",
      "The computer has chosen: lizard\n",
      "The computer won the round\n",
      "The computer is now winning: 2-1\n",
      "The computer is about to win!\n",
      "\n",
      "\n",
      "Round number 4\n",
      "Which gesture do you want to show?rock\n",
      "Player has chosen: rock\n",
      "The computer has chosen: scissors\n",
      "Player won the round\n",
      "The game is now tied:2-2\n",
      "The computer is about to win!\n",
      "Player is about to win!\n",
      "\n",
      "\n",
      "Final round!\n",
      "Round number 5\n",
      "Which gesture do you want to show?scissors\n",
      "Player has chosen: scissors\n",
      "The computer has chosen: lizard\n",
      "Player won the round\n",
      "\n",
      "\n",
      "Player has won the game! 3-2\n"
     ]
    }
   ],
   "source": [
    "play_rock_paper_scissors_lizard_spock()"
   ]
  }
 ],
 "metadata": {
  "kernelspec": {
   "display_name": "Python 3",
   "language": "python",
   "name": "python3"
  },
  "language_info": {
   "codemirror_mode": {
    "name": "ipython",
    "version": 3
   },
   "file_extension": ".py",
   "mimetype": "text/x-python",
   "name": "python",
   "nbconvert_exporter": "python",
   "pygments_lexer": "ipython3",
   "version": "3.7.6"
  }
 },
 "nbformat": 4,
 "nbformat_minor": 2
}
