{
 "cells": [
  {
   "cell_type": "markdown",
   "metadata": {},
   "source": [
    "<img src=\"https://bit.ly/2VnXWr2\" width=\"100\" align=\"left\">"
   ]
  },
  {
   "cell_type": "markdown",
   "metadata": {},
   "source": [
    "# Temperature Sensor\n",
    "\n",
    "There is a temperature sensor in the processor of your company's server. The company wants to analyze the data provided by the sensor to decide if they should change the cooling system for a better one. As changing the cooling system is expensive and you are an excellent data analyst, you can't make a decision without basis.\n",
    "\n",
    "## Tools\n",
    "You don't necessarily need to use all the tools. Maybe you opt to use some of them or completely different ones, they are given to help you shape the exercise. Programming exercises can be solved in many different ways.\n",
    "1. Data structures: **lists**\n",
    "2. Loops: **list comprehension**\n",
    "3. Functions: **min, max, print, len**\n",
    "4. Conditional statements: **if-elif-else**\n",
    "\n",
    "## Tasks\n",
    "The temperatures measured throughout the 24 hours of a day are:"
   ]
  },
  {
   "cell_type": "code",
   "execution_count": 1,
   "metadata": {},
   "outputs": [],
   "source": [
    "temperatures_C = [33, 66, 65, 0, 59, 60, 62, 64, 70, 76, 80, 81, 80, 83, 90, 79, 61, 53, 50, 49, 53, 48, 45, 39]"
   ]
  },
  {
   "cell_type": "markdown",
   "metadata": {},
   "source": [
    "The first element of the list is the temperature at 12am, the second element is the temperature at 1am, and so on. \n",
    "\n",
    "The company has decided that if one of the following events occurs, then the cooling system needs to be replaced for a new one to avoid damaging the processor.\n",
    "* More than 4 temperatures are greater than or equal to 70ºC.\n",
    "* Any temperature is above 80ºC.\n",
    "* The average temperature exceeds 65ºC.\n",
    "\n",
    "Follow the steps so that you can make the decision.\n",
    "\n",
    "#### 1. Find the minimum temperature of the day and store it in a variable."
   ]
  },
  {
   "cell_type": "code",
   "execution_count": 2,
   "metadata": {},
   "outputs": [
    {
     "name": "stdout",
     "output_type": "stream",
     "text": [
      "The minimum temperature stored is: 0 ºC\n"
     ]
    }
   ],
   "source": [
    "min_temp = min(temperatures_C)\n",
    "print ('The minimum temperature stored is:', min_temp, 'ºC')"
   ]
  },
  {
   "cell_type": "markdown",
   "metadata": {},
   "source": [
    "#### 2. Find the maximum temperature of the day and store it in a variable."
   ]
  },
  {
   "cell_type": "code",
   "execution_count": 3,
   "metadata": {},
   "outputs": [
    {
     "name": "stdout",
     "output_type": "stream",
     "text": [
      "The maximum temperature stored is: 90 ºC\n"
     ]
    }
   ],
   "source": [
    "max_temp = max(temperatures_C)\n",
    "print ('The maximum temperature stored is:', max_temp, 'ºC')"
   ]
  },
  {
   "cell_type": "markdown",
   "metadata": {},
   "source": [
    "#### 3. Create a list with the temperatures that are greater than or equal to 70ºC. Store it in a variable."
   ]
  },
  {
   "cell_type": "code",
   "execution_count": 4,
   "metadata": {},
   "outputs": [
    {
     "name": "stdout",
     "output_type": "stream",
     "text": [
      "The temperatures greater than or equal to 70ºC are: [70, 76, 80, 81, 80, 83, 90, 79]\n"
     ]
    }
   ],
   "source": [
    "temp_greatereq_70 = []\n",
    "for temp in temperatures_C:\n",
    "    if temp >= 70:\n",
    "        temp_greatereq_70.append(temp)\n",
    "        \n",
    "print ('The temperatures greater than or equal to 70ºC are:', temp_greatereq_70)"
   ]
  },
  {
   "cell_type": "markdown",
   "metadata": {},
   "source": [
    "#### 4. Find the average temperature of the day and store it in a variable."
   ]
  },
  {
   "cell_type": "code",
   "execution_count": 5,
   "metadata": {},
   "outputs": [
    {
     "name": "stdout",
     "output_type": "stream",
     "text": [
      "The average temperature of the day is: 60.25\n"
     ]
    }
   ],
   "source": [
    "mean_temp = sum(temperatures_C)/len(temperatures_C)\n",
    "print ('The average temperature of the day is:', mean_temp)"
   ]
  },
  {
   "cell_type": "markdown",
   "metadata": {},
   "source": [
    "#### 5. Imagine that there was a sensor failure at 3am and the data for that specific hour was not recorded. How would you estimate the missing value? Replace the current value of the list at 3am for an estimation. "
   ]
  },
  {
   "cell_type": "code",
   "execution_count": 6,
   "metadata": {},
   "outputs": [
    {
     "name": "stdout",
     "output_type": "stream",
     "text": [
      "[33, 66, 65, 59, 60, 62, 64, 70, 76, 80, 81, 80, 83, 90, 79, 61, 53, 50, 49, 53, 48, 45, 39]\n",
      "63\n",
      "[33, 66, 65, 63, 59, 60, 62, 64, 70, 76, 80, 81, 80, 83, 90, 79, 61, 53, 50, 49, 53, 48, 45, 39]\n"
     ]
    }
   ],
   "source": [
    "#we will obtain the average for the list elements except the value for 3am, which is 0. We will round the result to the nearest integer.\n",
    "temperatures_C_except_3am = temperatures_C[:3]+temperatures_C[4:]\n",
    "print(temperatures_C_except_3am)\n",
    "\n",
    "mean_temp_except_3am = round(sum(temperatures_C_except_3am)/len(temperatures_C_except_3am))\n",
    "print(mean_temp_except_3am)\n",
    "\n",
    "temperatures_C[3] = mean_temp_except_3am\n",
    "print(temperatures_C)\n",
    "\n",
    "mean_temp_C = sum(temperatures_C)/len(temperatures_C)"
   ]
  },
  {
   "cell_type": "markdown",
   "metadata": {},
   "source": [
    "#### 6. Bonus: the maintenance staff is from the United States and does not understand the international metric system. Help them by converting the temperatures from Celsius to Fahrenheit.\n",
    "To know more about temperature conversion check this [link](https://en.wikipedia.org/wiki/Conversion_of_units_of_temperature).\n",
    "\n",
    "**Formula**: \n",
    "\n",
    "$F = 1.8 * C + 32$"
   ]
  },
  {
   "cell_type": "code",
   "execution_count": 7,
   "metadata": {},
   "outputs": [
    {
     "name": "stdout",
     "output_type": "stream",
     "text": [
      "The temperatures in Farenheit are: [91.4, 150.8, 149.0, 145.4, 138.2, 140.0, 143.6, 147.2, 158.0, 168.8, 176.0, 177.8, 176.0, 181.4, 194.0, 174.2, 141.8, 127.4, 122.0, 120.2, 127.4, 118.4, 113.0, 102.2]\n"
     ]
    }
   ],
   "source": [
    "def farenheit(temp):\n",
    "    return (1.8 * temp + 32)\n",
    "\n",
    "temperatures_F=[]\n",
    "for temp in temperatures_C:\n",
    "    temperatures_F.append(round(farenheit(temp),1))\n",
    "    \n",
    "print('The temperatures in Farenheit are:', temperatures_F)"
   ]
  },
  {
   "cell_type": "markdown",
   "metadata": {},
   "source": [
    "#### 7. Make a decision!\n",
    "Now it's time to make a decision taking into account what you have seen until now. \n",
    "\n",
    "Remember that if one of the following events occurs, then the cooling system needs to be replaced for a new one to avoid damaging the processor.\n",
    "* More than 4 temperatures are greater than or equal to 70ºC.\n",
    "* Any temperature is above 80ºC.\n",
    "* The average temperature exceeds 65ºC.\n",
    "\n",
    "#### To make your decision, check if any of the three conditions above is met. You might need to use some of the variables you created in steps 1 to 6. Print a message to show if the cooling system needs to be changed or not."
   ]
  },
  {
   "cell_type": "code",
   "execution_count": 8,
   "metadata": {},
   "outputs": [
    {
     "name": "stdout",
     "output_type": "stream",
     "text": [
      "The cooling system needs to be replaced.\n"
     ]
    }
   ],
   "source": [
    "if len(temp_greatereq_70) > 4:\n",
    "    print('The cooling system needs to be replaced.')\n",
    "elif max_temp > 80:\n",
    "    print('The cooling system needs to be replaced.')\n",
    "elif mean_temp_C > 65:\n",
    "    print('The cooling system needs to be replaced.')\n",
    "else:\n",
    "    print('It is not necessary to replace the cooling system')"
   ]
  },
  {
   "cell_type": "markdown",
   "metadata": {},
   "source": [
    "## Bonus\n",
    "\n",
    "The company has decided that the decision you made is not valid. They want you to analyze the data again but this time, the conditions that need to be met in order to change the cooling system are different.\n",
    "\n",
    "This time, if one of the following events occurs, then the cooling system needs to be replaced:\n",
    "* The temperature is greater than 70ºC during more than 4 consecutive hours.\n",
    "* Any temperature is above 80ºC.\n",
    "* The average temperature exceeds 65ºC.\n",
    "\n",
    "Follow the steps so that you can make the decision.\n",
    "\n",
    "#### 1. Create a list with the hours where the temperature is greater than 70ºC. Store it in a variable."
   ]
  },
  {
   "cell_type": "code",
   "execution_count": 9,
   "metadata": {},
   "outputs": [
    {
     "name": "stdout",
     "output_type": "stream",
     "text": [
      "The hours when the temperature exceeded the limit are the following: [8, 9, 10, 11, 12, 13, 14, 15]\n"
     ]
    }
   ],
   "source": [
    "hours_temp_greatereq_70=[]\n",
    "count=0\n",
    "for temp in temperatures_C:\n",
    "    if temp >=70:\n",
    "        hours_temp_greatereq_70.append(count)\n",
    "    count += 1\n",
    "print('The hours when the temperature exceeded the limit are the following:', hours_temp_greatereq_70)"
   ]
  },
  {
   "cell_type": "markdown",
   "metadata": {},
   "source": [
    "#### 2. Check if the list you created in step 1 has more than 4 consecutive hours. "
   ]
  },
  {
   "cell_type": "code",
   "execution_count": 10,
   "metadata": {},
   "outputs": [
    {
     "name": "stdout",
     "output_type": "stream",
     "text": [
      "The temperature has reached 70 or greater for a maximum period of 8 consecutive hours.\n"
     ]
    }
   ],
   "source": [
    "consecutive_hours=1\n",
    "for i in range(len(hours_temp_greatereq_70)-1):\n",
    "    \n",
    "    if hours_temp_greatereq_70[i+1] == (hours_temp_greatereq_70[i] + 1):\n",
    "        consecutive_hours +=1\n",
    "    else:\n",
    "        consecutive_hours = 1\n",
    "\n",
    "print('The temperature has reached 70 or greater for a maximum period of', consecutive_hours, 'consecutive hours.')"
   ]
  },
  {
   "cell_type": "markdown",
   "metadata": {},
   "source": [
    "#### 3. Make the decision!\n",
    "To make your decision, check if any of the three conditions is met. Print a message to show if the cooling system needs to be changed or not."
   ]
  },
  {
   "cell_type": "code",
   "execution_count": 11,
   "metadata": {},
   "outputs": [
    {
     "name": "stdout",
     "output_type": "stream",
     "text": [
      "The cooling system needs to be replaced.\n"
     ]
    }
   ],
   "source": [
    "if consecutive_hours > 4:\n",
    "    print('The cooling system needs to be replaced.')\n",
    "elif max_temp > 80:\n",
    "    print('The cooling system needs to be replaced.')\n",
    "elif mean_temp_except_3am > 65:\n",
    "    print('The cooling system needs to be replaced.')\n",
    "else:\n",
    "    print('It is not necessary to replace the cooling system')"
   ]
  },
  {
   "cell_type": "markdown",
   "metadata": {},
   "source": [
    "#### 4. Find the average value of the temperature lists (ºC and ºF). What is the relation between both average values?"
   ]
  },
  {
   "cell_type": "code",
   "execution_count": 12,
   "metadata": {},
   "outputs": [
    {
     "name": "stdout",
     "output_type": "stream",
     "text": [
      "The average value of the temperature in Celsius is: 62.875\n",
      "The average value of the temperature in Farenheit is: 145.17499999999998\n",
      "The average value in Farenheit is the result of converting the average value in Celsius to Farenheit using the given formula\n"
     ]
    }
   ],
   "source": [
    "print ('The average value of the temperature in Celsius is:', mean_temp_C)\n",
    "\n",
    "mean_temp_F = sum(temperatures_F)/len(temperatures_F)\n",
    "print ('The average value of the temperature in Farenheit is:', mean_temp_F)\n",
    "\n",
    "if round(farenheit(mean_temp_C)) == round(mean_temp_F):\n",
    "    print('The average value in Farenheit is the result of converting the average value in Celsius to Farenheit using the given formula')"
   ]
  },
  {
   "cell_type": "markdown",
   "metadata": {},
   "source": [
    "#### 5. Find the standard deviation of the temperature lists (ºC and ºF). What is the relation between both standard deviations?"
   ]
  },
  {
   "cell_type": "code",
   "execution_count": 13,
   "metadata": {},
   "outputs": [
    {
     "name": "stdout",
     "output_type": "stream",
     "text": [
      "The standard deviation of the temperatures in Celsius is: 14.632476721320968\n",
      "The standard deviation of the temperatures in Farenheit is: 26.33845809837774\n",
      "1.7999999999999998\n",
      "The relation between both standard deviations is a factor of 1.8, which is the main conversion factor between Celsius and Farenheit\n"
     ]
    }
   ],
   "source": [
    "standard_deviation_C = 0\n",
    "for value in temperatures_C:\n",
    "    standard_deviation_C += (value - mean_temp_C)**2\n",
    "standard_deviation_C = (standard_deviation_C/len(temperatures_C))**(1/2)\n",
    "\n",
    "print(\"The standard deviation of the temperatures in Celsius is:\", standard_deviation_C)\n",
    "\n",
    "standard_deviation_F = 0\n",
    "for value in temperatures_F:\n",
    "    standard_deviation_F += (value - mean_temp_F)**2\n",
    "standard_deviation_F = (standard_deviation_F/len(temperatures_F))**(1/2)\n",
    "\n",
    "print(\"The standard deviation of the temperatures in Farenheit is:\", standard_deviation_F)\n",
    "\n",
    "print(standard_deviation_F/standard_deviation_C)\n",
    "print('The relation between both standard deviations is a factor of 1.8, which is the main conversion factor between Celsius and Farenheit')"
   ]
  }
 ],
 "metadata": {
  "kernelspec": {
   "display_name": "Python 3",
   "language": "python",
   "name": "python3"
  },
  "language_info": {
   "codemirror_mode": {
    "name": "ipython",
    "version": 3
   },
   "file_extension": ".py",
   "mimetype": "text/x-python",
   "name": "python",
   "nbconvert_exporter": "python",
   "pygments_lexer": "ipython3",
   "version": "3.7.6"
  }
 },
 "nbformat": 4,
 "nbformat_minor": 2
}
